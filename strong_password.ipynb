{
  "nbformat": 4,
  "nbformat_minor": 0,
  "metadata": {
    "colab": {
      "name": "strong password",
      "provenance": [],
      "collapsed_sections": [],
      "authorship_tag": "ABX9TyOiIcRP2Y56Pf0vu2iUc00l",
      "include_colab_link": true
    },
    "kernelspec": {
      "name": "python3",
      "display_name": "Python 3"
    },
    "language_info": {
      "name": "python"
    }
  },
  "cells": [
    {
      "cell_type": "markdown",
      "metadata": {
        "id": "view-in-github",
        "colab_type": "text"
      },
      "source": [
        "<a href=\"https://colab.research.google.com/github/123santoshi/Block-code/blob/main/strong_password.ipynb\" target=\"_parent\"><img src=\"https://colab.research.google.com/assets/colab-badge.svg\" alt=\"Open In Colab\"/></a>"
      ]
    },
    {
      "cell_type": "code",
      "metadata": {
        "colab": {
          "base_uri": "https://localhost:8080/"
        },
        "id": "EgHLYQeYt_w3",
        "outputId": "0c02a220-f25b-4e2a-ff07-54561fa60224"
      },
      "source": [
        "password=input(\"enter the password===\")\n",
        "small=\"abcdefghijklmnopqrstuvwxyz\"\n",
        "capital=\"ABCDEFGHIJKLMNOPQRSTUVWXYZ\"\n",
        "nums=\"0123456789\"\n",
        "spl=\"!@#$%\"\n",
        "l=[0,0,0,0]\n",
        "if(len(password)<=6 or len(password)>=15):\n",
        "    print(\"password lenght must be greather than 6 and less than 15\")\n",
        "else:\n",
        "  for i in password:\n",
        "    if i in small:\n",
        "      l[0]=1\n",
        "    elif i in capital:\n",
        "      l[1]=1\n",
        "    elif i in nums:\n",
        "      l[2]=1\n",
        "    elif i in spl:\n",
        "      l[3]=1\n",
        "  if(sum(l)==4):\n",
        "    print(\"{0} is correct password\".format(password))\n",
        "  else:\n",
        "    print(\"{0} is incorrect password\".format(password))\n",
        "   \n",
        "    \n",
        "\n",
        "\n"
      ],
      "execution_count": 6,
      "outputs": [
        {
          "output_type": "stream",
          "name": "stdout",
          "text": [
            "enter the password===santu@1234A\n",
            "santu@1234A is correct password\n"
          ]
        }
      ]
    }
  ]
}